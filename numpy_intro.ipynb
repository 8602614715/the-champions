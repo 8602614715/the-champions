{
 "cells": [
  {
   "cell_type": "code",
   "execution_count": 6,
   "id": "cbb830ee-525f-4603-bcd6-a29d2bdaa619",
   "metadata": {},
   "outputs": [],
   "source": [
    "import numpy as np\n"
   ]
  },
  {
   "cell_type": "code",
   "execution_count": 7,
   "id": "8e094b88-fdaf-4562-8cd0-010bb5af9b9e",
   "metadata": {},
   "outputs": [],
   "source": [
    "list = [1,2,3,4,5]"
   ]
  },
  {
   "cell_type": "code",
   "execution_count": 8,
   "id": "eea25adb-560c-4a8a-b983-5c4cbc5a5da9",
   "metadata": {},
   "outputs": [],
   "source": [
    "list2 = [\"sam\",1,True]"
   ]
  },
  {
   "cell_type": "code",
   "execution_count": 13,
   "id": "2f982ca1-ef97-4e2e-b991-f82a1016944c",
   "metadata": {},
   "outputs": [
    {
     "name": "stdout",
     "output_type": "stream",
     "text": [
      "[0 3 2 1 4 5 7 6 8 9]\n"
     ]
    }
   ],
   "source": [
    "np1 = np.array([0,3,2,1,4,5,7,6,8,9])\n",
    "print(np1)"
   ]
  },
  {
   "cell_type": "code",
   "execution_count": 10,
   "id": "ec72e2a0-5ef0-4680-9bbe-a470e01d0458",
   "metadata": {},
   "outputs": [
    {
     "name": "stdout",
     "output_type": "stream",
     "text": [
      "(10,)\n"
     ]
    }
   ],
   "source": [
    "print(np1.shape)"
   ]
  },
  {
   "cell_type": "code",
   "execution_count": 14,
   "id": "2ff02260-01d9-4036-9438-323a3e0018e9",
   "metadata": {},
   "outputs": [
    {
     "name": "stdout",
     "output_type": "stream",
     "text": [
      "[0 1 2 3 4 5 6 7 8 9]\n"
     ]
    }
   ],
   "source": [
    "np2 = np.arange(10)\n",
    "print(np2)"
   ]
  },
  {
   "cell_type": "code",
   "execution_count": 17,
   "id": "157905b3-76d5-461b-a704-2ec206b669cc",
   "metadata": {},
   "outputs": [
    {
     "name": "stdout",
     "output_type": "stream",
     "text": [
      "[0 3 6 9]\n"
     ]
    }
   ],
   "source": [
    "np3 = np.arange(0,10,3)\n",
    "print(np3)"
   ]
  },
  {
   "cell_type": "code",
   "execution_count": 18,
   "id": "9b3dcad6-c3f1-4ce8-9c5e-4a29b0051a84",
   "metadata": {},
   "outputs": [
    {
     "name": "stdout",
     "output_type": "stream",
     "text": [
      "[0. 0. 0. 0. 0. 0. 0. 0. 0. 0.]\n"
     ]
    }
   ],
   "source": [
    "np4 = np.zeros(10)\n",
    "print(np4)"
   ]
  },
  {
   "cell_type": "code",
   "execution_count": 20,
   "id": "b43af27b-ca61-41cb-8df4-aca0a070fee0",
   "metadata": {},
   "outputs": [
    {
     "name": "stdout",
     "output_type": "stream",
     "text": [
      "[[0. 0. 0. 0. 0. 0. 0. 0. 0. 0.]\n",
      " [0. 0. 0. 0. 0. 0. 0. 0. 0. 0.]\n",
      " [0. 0. 0. 0. 0. 0. 0. 0. 0. 0.]]\n"
     ]
    }
   ],
   "source": [
    "np5 = np.zeros((3,10))\n",
    "print(np5)"
   ]
  },
  {
   "cell_type": "code",
   "execution_count": 21,
   "id": "8d2069bb-d540-4d77-88f9-72f3d5297386",
   "metadata": {},
   "outputs": [
    {
     "name": "stdout",
     "output_type": "stream",
     "text": [
      "[6 6 6 6 6 6 6 6 6 6]\n"
     ]
    }
   ],
   "source": [
    "np6 = np.full((10),6)\n",
    "print(np6)"
   ]
  },
  {
   "cell_type": "code",
   "execution_count": 22,
   "id": "036b2076-3651-473d-a683-455191f6853a",
   "metadata": {},
   "outputs": [
    {
     "name": "stdout",
     "output_type": "stream",
     "text": [
      "[[1 1 1 1 1]\n",
      " [1 1 1 1 1]]\n"
     ]
    }
   ],
   "source": [
    "# Multidimensional full\n",
    "np7 = np.full((2,5),1)\n",
    "print(np7)"
   ]
  },
  {
   "cell_type": "code",
   "execution_count": 23,
   "id": "5341bd2f-278c-4f3a-a140-38b612d9a58d",
   "metadata": {},
   "outputs": [
    {
     "name": "stdout",
     "output_type": "stream",
     "text": [
      "[1 2 3 4 5]\n"
     ]
    }
   ],
   "source": [
    "# convert python list to np\n",
    "my_list = [1,2,3,4,5]\n",
    "np8 = np.array(my_list)\n",
    "print(np8)"
   ]
  },
  {
   "cell_type": "code",
   "execution_count": null,
   "id": "9cbc6624-ea93-4eef-a4db-dd1a1e68892e",
   "metadata": {},
   "outputs": [],
   "source": []
  }
 ],
 "metadata": {
  "kernelspec": {
   "display_name": "Python 3 (ipykernel)",
   "language": "python",
   "name": "python3"
  },
  "language_info": {
   "codemirror_mode": {
    "name": "ipython",
    "version": 3
   },
   "file_extension": ".py",
   "mimetype": "text/x-python",
   "name": "python",
   "nbconvert_exporter": "python",
   "pygments_lexer": "ipython3",
   "version": "3.12.4"
  }
 },
 "nbformat": 4,
 "nbformat_minor": 5
}
