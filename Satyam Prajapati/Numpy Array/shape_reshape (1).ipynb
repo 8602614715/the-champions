{
 "cells": [
  {
   "cell_type": "code",
   "execution_count": 1,
   "id": "aa35235a-ffa8-4d0c-be1d-ac820f9a3eb0",
   "metadata": {},
   "outputs": [],
   "source": [
    "import numpy as np"
   ]
  },
  {
   "cell_type": "code",
   "execution_count": 30,
   "id": "7895ed35-09f4-4fe1-8884-3c49accdf16c",
   "metadata": {},
   "outputs": [
    {
     "name": "stdout",
     "output_type": "stream",
     "text": [
      "1\n",
      "2\n",
      "3\n",
      "4\n",
      "5\n",
      "6\n",
      "7\n",
      "8\n",
      "9\n",
      "10\n",
      "11\n",
      "12\n"
     ]
    }
   ],
   "source": [
    "np1 = np.array([[[1,2,3],[4,5,6]],[[7,8,9],[10,11,12]]])\n",
    "for x in np1:\n",
    "    for y in x:\n",
    "        for z in y:\n",
    "            print(z)"
   ]
  },
  {
   "cell_type": "code",
   "execution_count": 33,
   "id": "dcf5dc62-2d46-4c0b-81bd-a5faebeaa709",
   "metadata": {},
   "outputs": [
    {
     "name": "stdout",
     "output_type": "stream",
     "text": [
      "1\n",
      "2\n",
      "3\n",
      "4\n",
      "5\n",
      "6\n",
      "7\n",
      "8\n",
      "9\n",
      "10\n",
      "11\n",
      "12\n"
     ]
    }
   ],
   "source": [
    "# use np.nditer() for each element in one line\n",
    "for x in np.nditer(np1):\n",
    "    print(x)"
   ]
  },
  {
   "cell_type": "code",
   "execution_count": 34,
   "id": "1bb6a00a-5fee-4873-b7a0-6c7b4a2f9eda",
   "metadata": {},
   "outputs": [
    {
     "name": "stdout",
     "output_type": "stream",
     "text": [
      "[0 1 2 3 4 5 6 7 8 9]\n"
     ]
    }
   ],
   "source": [
    "# for sorting numpy array np.sort()\n",
    "np2 = np.array([0,7,6,3,1,2,4,8,9,5])\n",
    "print(np.sort(np2))"
   ]
  },
  {
   "cell_type": "code",
   "execution_count": 36,
   "id": "20b13330-3383-412a-a18b-500f521d3130",
   "metadata": {},
   "outputs": [
    {
     "name": "stdout",
     "output_type": "stream",
     "text": [
      "[0 7 6 3 1 2 4 8 9 5]\n",
      "(array([9]),)\n"
     ]
    }
   ],
   "source": [
    "x = np.where(np2 == 5)\n",
    "print(np2)\n",
    "print(x)"
   ]
  },
  {
   "cell_type": "code",
   "execution_count": 38,
   "id": "0b570fea-8d23-4d91-9223-248a738afea4",
   "metadata": {},
   "outputs": [
    {
     "name": "stdout",
     "output_type": "stream",
     "text": [
      "[0 7 6 3 1 2 4 8 9 5]\n",
      "[0 2 5 6 7]\n"
     ]
    }
   ],
   "source": [
    "# print even numbers\n",
    "y = np.where(np2 % 2 == 0)\n",
    "print(np2)\n",
    "print(y[0])"
   ]
  },
  {
   "cell_type": "code",
   "execution_count": null,
   "id": "9ff88303-7770-48ba-a750-eaeea6e7c5b1",
   "metadata": {},
   "outputs": [],
   "source": []
  }
 ],
 "metadata": {
  "kernelspec": {
   "display_name": "Python 3 (ipykernel)",
   "language": "python",
   "name": "python3"
  },
  "language_info": {
   "codemirror_mode": {
    "name": "ipython",
    "version": 3
   },
   "file_extension": ".py",
   "mimetype": "text/x-python",
   "name": "python",
   "nbconvert_exporter": "python",
   "pygments_lexer": "ipython3",
   "version": "3.12.4"
  }
 },
 "nbformat": 4,
 "nbformat_minor": 5
}
