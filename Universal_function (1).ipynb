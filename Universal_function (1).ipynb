{
 "cells": [
  {
   "cell_type": "code",
   "execution_count": 1,
   "id": "7c6126ea-5d7d-4554-9f05-1cee600815f6",
   "metadata": {},
   "outputs": [],
   "source": [
    "import numpy as np"
   ]
  },
  {
   "cell_type": "code",
   "execution_count": 2,
   "id": "d908bdd4-90bd-4ad6-a535-7a7ea441ed21",
   "metadata": {},
   "outputs": [],
   "source": [
    "#numpy universal function?"
   ]
  },
  {
   "cell_type": "code",
   "execution_count": 6,
   "id": "a35467a7-8a93-4cb2-b488-6896b87d6d7a",
   "metadata": {},
   "outputs": [
    {
     "name": "stdout",
     "output_type": "stream",
     "text": [
      "[  0   1   2   3   4   5   6   7   8   9 -10]\n"
     ]
    }
   ],
   "source": [
    "np1 = np.array([0,1,2,3,4,5,6,7,8,9,-10])\n",
    "print(np1)"
   ]
  },
  {
   "cell_type": "code",
   "execution_count": 7,
   "id": "3e8b4fbc-1956-4069-9922-30aa92cae257",
   "metadata": {},
   "outputs": [
    {
     "name": "stdout",
     "output_type": "stream",
     "text": [
      "[0.         1.         1.41421356 1.73205081 2.         2.23606798\n",
      " 2.44948974 2.64575131 2.82842712 3.                nan]\n"
     ]
    },
    {
     "name": "stderr",
     "output_type": "stream",
     "text": [
      "C:\\Users\\Acer\\AppData\\Local\\Temp\\ipykernel_16864\\3712433972.py:2: RuntimeWarning: invalid value encountered in sqrt\n",
      "  print(np.sqrt(np1))\n"
     ]
    }
   ],
   "source": [
    "# square route of each element\n",
    "print(np.sqrt(np1))"
   ]
  },
  {
   "cell_type": "code",
   "execution_count": 8,
   "id": "33f39fa9-e289-4e39-b41e-826014cf7485",
   "metadata": {},
   "outputs": [
    {
     "name": "stdout",
     "output_type": "stream",
     "text": [
      "[ 0  1  2  3  4  5  6  7  8  9 10]\n"
     ]
    }
   ],
   "source": [
    "print(np.absolute(np1))"
   ]
  },
  {
   "cell_type": "code",
   "execution_count": 9,
   "id": "7bd18c2d-4f73-447a-a98b-e28bf79ffcf5",
   "metadata": {},
   "outputs": [
    {
     "ename": "SyntaxError",
     "evalue": "unmatched ')' (2716923446.py, line 1)",
     "output_type": "error",
     "traceback": [
      "\u001b[1;36m  Cell \u001b[1;32mIn[9], line 1\u001b[1;36m\u001b[0m\n\u001b[1;33m    print(np.sign(np1)))\u001b[0m\n\u001b[1;37m                       ^\u001b[0m\n\u001b[1;31mSyntaxError\u001b[0m\u001b[1;31m:\u001b[0m unmatched ')'\n"
     ]
    }
   ],
   "source": [
    "print(np.sign(np1)))"
   ]
  },
  {
   "cell_type": "code",
   "execution_count": 10,
   "id": "9c682a2f-bfdb-499f-87ba-981810bfb2da",
   "metadata": {},
   "outputs": [
    {
     "name": "stdout",
     "output_type": "stream",
     "text": [
      "[ 0  1  1  1  1  1  1  1  1  1 -1]\n"
     ]
    }
   ],
   "source": [
    "print(np.sign(np1))"
   ]
  },
  {
   "cell_type": "code",
   "execution_count": 11,
   "id": "42c62b35-bc00-442f-baa6-6281f5ea240d",
   "metadata": {},
   "outputs": [
    {
     "name": "stdout",
     "output_type": "stream",
     "text": [
      "[0 1 1 1 1 1 1 1 1 1]\n"
     ]
    }
   ],
   "source": [
    "np2 = np.array([0,1,2,3,4,5,6,7,8,9])\n",
    "print(np.sign(np2))"
   ]
  },
  {
   "cell_type": "code",
   "execution_count": 12,
   "id": "821ea9bb-c266-4dc8-8f47-9c56899ff0d8",
   "metadata": {},
   "outputs": [
    {
     "name": "stdout",
     "output_type": "stream",
     "text": [
      "[      -inf 0.         0.69314718 1.09861229 1.38629436 1.60943791\n",
      " 1.79175947 1.94591015 2.07944154 2.19722458]\n"
     ]
    },
    {
     "name": "stderr",
     "output_type": "stream",
     "text": [
      "C:\\Users\\Acer\\AppData\\Local\\Temp\\ipykernel_16864\\2926583669.py:1: RuntimeWarning: divide by zero encountered in log\n",
      "  print(np.log(np2))\n"
     ]
    }
   ],
   "source": [
    "print(np.log(np2))"
   ]
  },
  {
   "cell_type": "code",
   "execution_count": null,
   "id": "26291d45-beaf-4243-a807-18628212ceaf",
   "metadata": {},
   "outputs": [],
   "source": []
  },
  {
   "cell_type": "code",
   "execution_count": null,
   "id": "e7a3b7bf-b2f1-4f3f-bb02-0fffd8222c93",
   "metadata": {},
   "outputs": [],
   "source": []
  },
  {
   "cell_type": "code",
   "execution_count": null,
   "id": "53638f48-0d6b-48ee-9782-d6d6d8021142",
   "metadata": {},
   "outputs": [],
   "source": []
  },
  {
   "cell_type": "code",
   "execution_count": null,
   "id": "e5398bb6-f0a3-4f19-a34f-876d151e4611",
   "metadata": {},
   "outputs": [],
   "source": []
  }
 ],
 "metadata": {
  "kernelspec": {
   "display_name": "Python 3 (ipykernel)",
   "language": "python",
   "name": "python3"
  },
  "language_info": {
   "codemirror_mode": {
    "name": "ipython",
    "version": 3
   },
   "file_extension": ".py",
   "mimetype": "text/x-python",
   "name": "python",
   "nbconvert_exporter": "python",
   "pygments_lexer": "ipython3",
   "version": "3.12.4"
  }
 },
 "nbformat": 4,
 "nbformat_minor": 5
}
